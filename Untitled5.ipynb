{
 "cells": [
  {
   "cell_type": "code",
   "execution_count": 1,
   "metadata": {},
   "outputs": [],
   "source": [
    "import cv2\n",
    "import dlib"
   ]
  },
  {
   "cell_type": "code",
   "execution_count": 17,
   "metadata": {},
   "outputs": [],
   "source": [
    "capture = cv2.VideoCapture(1)\n",
    "\n",
    "facial_tracker = dlib.get_frontal_face_detector()\n",
    "\n",
    "facial_landmarks = dlib.shape_predictor(\"shape_predictor_68_face_landmarks.dat\")"
   ]
  },
  {
   "cell_type": "code",
   "execution_count": null,
   "metadata": {},
   "outputs": [],
   "source": [
    "while True:\n",
    "    _, face_frame = capture.read()\n",
    "    \n",
    "    gray = cv2.cvtColor(face_frame, cv2.COLOR_BGR2GRAY)\n",
    "    \n",
    "    face_track = facial_tracker(gray)\n",
    "    \n",
    "    for face in face_track:\n",
    "        x1 = face.left()\n",
    "        y1 = face.top()\n",
    "        \n",
    "        x2 = face.right()\n",
    "        y2 = face.bottom()\n",
    "        \n",
    "        cv2.rectangle(face_frame, (x1, y1), (x2, y2), (0, 255, 0), 3)\n",
    "        \n",
    "        \n",
    "        landmarks = facial_landmarks(gray, face)\n",
    "        \n",
    "        for i in range(0, 68):\n",
    "            x = landmarks.part(i).x\n",
    "            y = landmarks.part(i).y\n",
    "            \n",
    "            cv2.circle(face_frame, (x, y), 3, (0, 0, 255), -1)\n",
    "        \n",
    "    \n",
    "    cv2.imshow(\"face frame\", face_frame)\n",
    "    \n",
    "    key = cv2.waitKey(1)\n",
    "    \n",
    "    if key == ord('q'):\n",
    "        break"
   ]
  },
  {
   "cell_type": "code",
   "execution_count": null,
   "metadata": {},
   "outputs": [],
   "source": []
  }
 ],
 "metadata": {
  "kernelspec": {
   "display_name": "Python 3",
   "language": "python",
   "name": "python3"
  },
  "language_info": {
   "codemirror_mode": {
    "name": "ipython",
    "version": 3
   },
   "file_extension": ".py",
   "mimetype": "text/x-python",
   "name": "python",
   "nbconvert_exporter": "python",
   "pygments_lexer": "ipython3",
   "version": "3.8.5"
  }
 },
 "nbformat": 4,
 "nbformat_minor": 4
}
